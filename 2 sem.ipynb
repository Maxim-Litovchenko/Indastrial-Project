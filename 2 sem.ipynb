{
 "cells": [
  {
   "cell_type": "code",
   "execution_count": 1,
   "id": "5af18940-0715-4fdd-af73-8316f0ba1771",
   "metadata": {},
   "outputs": [],
   "source": [
    "import pandas as pd\n",
    "import numpy as np\n",
    "import matplotlib.pyplot as plt\n",
    "import seaborn as sns"
   ]
  },
  {
   "cell_type": "code",
   "execution_count": 2,
   "id": "08adb201-6622-458e-b401-c719ff66d0b9",
   "metadata": {},
   "outputs": [],
   "source": [
    "data = pd.read_csv('data1.csv')\n",
    "data_arx = data.copy()"
   ]
  },
  {
   "cell_type": "code",
   "execution_count": 3,
   "id": "44163291-917f-4645-950f-da92e1db00b4",
   "metadata": {},
   "outputs": [
    {
     "data": {
      "text/html": [
       "<div>\n",
       "<style scoped>\n",
       "    .dataframe tbody tr th:only-of-type {\n",
       "        vertical-align: middle;\n",
       "    }\n",
       "\n",
       "    .dataframe tbody tr th {\n",
       "        vertical-align: top;\n",
       "    }\n",
       "\n",
       "    .dataframe thead th {\n",
       "        text-align: right;\n",
       "    }\n",
       "</style>\n",
       "<table border=\"1\" class=\"dataframe\">\n",
       "  <thead>\n",
       "    <tr style=\"text-align: right;\">\n",
       "      <th></th>\n",
       "      <th>DateTime</th>\n",
       "      <th>Ni1</th>\n",
       "      <th>S1</th>\n",
       "      <th>Fe3O41</th>\n",
       "      <th>Ni2</th>\n",
       "      <th>S2</th>\n",
       "      <th>Fe3O42</th>\n",
       "      <th>Ni3</th>\n",
       "      <th>S3</th>\n",
       "      <th>Fe3O43</th>\n",
       "      <th>...</th>\n",
       "      <th>ro2</th>\n",
       "      <th>ro3</th>\n",
       "      <th>ro4</th>\n",
       "      <th>ro_final</th>\n",
       "      <th>ust1</th>\n",
       "      <th>ust2</th>\n",
       "      <th>ust3</th>\n",
       "      <th>ust4</th>\n",
       "      <th>v_final</th>\n",
       "      <th>level_final</th>\n",
       "    </tr>\n",
       "  </thead>\n",
       "  <tbody>\n",
       "    <tr>\n",
       "      <th>0</th>\n",
       "      <td>2021-01-01 00:00:00</td>\n",
       "      <td>5.45</td>\n",
       "      <td>22.39</td>\n",
       "      <td>1.5</td>\n",
       "      <td>3.87</td>\n",
       "      <td>17.52</td>\n",
       "      <td>1.7</td>\n",
       "      <td>8.62</td>\n",
       "      <td>13.21</td>\n",
       "      <td>5.0</td>\n",
       "      <td>...</td>\n",
       "      <td>1.68910</td>\n",
       "      <td>2.01670</td>\n",
       "      <td>1.86565</td>\n",
       "      <td>1.8684</td>\n",
       "      <td>0.0</td>\n",
       "      <td>0.0</td>\n",
       "      <td>44</td>\n",
       "      <td>97.0</td>\n",
       "      <td>179</td>\n",
       "      <td>69.2796</td>\n",
       "    </tr>\n",
       "    <tr>\n",
       "      <th>1</th>\n",
       "      <td>2021-01-01 00:01:00</td>\n",
       "      <td>5.45</td>\n",
       "      <td>22.39</td>\n",
       "      <td>1.5</td>\n",
       "      <td>3.87</td>\n",
       "      <td>17.52</td>\n",
       "      <td>1.7</td>\n",
       "      <td>8.62</td>\n",
       "      <td>13.21</td>\n",
       "      <td>5.0</td>\n",
       "      <td>...</td>\n",
       "      <td>1.69955</td>\n",
       "      <td>2.02900</td>\n",
       "      <td>1.86145</td>\n",
       "      <td>1.8752</td>\n",
       "      <td>0.0</td>\n",
       "      <td>0.0</td>\n",
       "      <td>44</td>\n",
       "      <td>97.0</td>\n",
       "      <td>179</td>\n",
       "      <td>69.1331</td>\n",
       "    </tr>\n",
       "    <tr>\n",
       "      <th>2</th>\n",
       "      <td>2021-01-01 00:02:00</td>\n",
       "      <td>5.45</td>\n",
       "      <td>22.39</td>\n",
       "      <td>1.5</td>\n",
       "      <td>3.87</td>\n",
       "      <td>17.52</td>\n",
       "      <td>1.7</td>\n",
       "      <td>8.62</td>\n",
       "      <td>13.21</td>\n",
       "      <td>5.0</td>\n",
       "      <td>...</td>\n",
       "      <td>1.69980</td>\n",
       "      <td>2.04530</td>\n",
       "      <td>1.85210</td>\n",
       "      <td>1.8635</td>\n",
       "      <td>0.0</td>\n",
       "      <td>0.0</td>\n",
       "      <td>44</td>\n",
       "      <td>97.0</td>\n",
       "      <td>179</td>\n",
       "      <td>66.7399</td>\n",
       "    </tr>\n",
       "    <tr>\n",
       "      <th>3</th>\n",
       "      <td>2021-01-01 00:03:00</td>\n",
       "      <td>5.45</td>\n",
       "      <td>22.39</td>\n",
       "      <td>1.5</td>\n",
       "      <td>3.87</td>\n",
       "      <td>17.52</td>\n",
       "      <td>1.7</td>\n",
       "      <td>8.62</td>\n",
       "      <td>13.21</td>\n",
       "      <td>5.0</td>\n",
       "      <td>...</td>\n",
       "      <td>1.69845</td>\n",
       "      <td>2.05230</td>\n",
       "      <td>1.84420</td>\n",
       "      <td>1.8572</td>\n",
       "      <td>0.0</td>\n",
       "      <td>0.0</td>\n",
       "      <td>44</td>\n",
       "      <td>97.0</td>\n",
       "      <td>179</td>\n",
       "      <td>64.2247</td>\n",
       "    </tr>\n",
       "    <tr>\n",
       "      <th>4</th>\n",
       "      <td>2021-01-01 00:04:00</td>\n",
       "      <td>5.45</td>\n",
       "      <td>22.39</td>\n",
       "      <td>1.5</td>\n",
       "      <td>3.87</td>\n",
       "      <td>17.52</td>\n",
       "      <td>1.7</td>\n",
       "      <td>8.62</td>\n",
       "      <td>13.21</td>\n",
       "      <td>5.0</td>\n",
       "      <td>...</td>\n",
       "      <td>1.69470</td>\n",
       "      <td>2.06035</td>\n",
       "      <td>1.83950</td>\n",
       "      <td>1.8526</td>\n",
       "      <td>0.0</td>\n",
       "      <td>0.0</td>\n",
       "      <td>44</td>\n",
       "      <td>97.0</td>\n",
       "      <td>179</td>\n",
       "      <td>62.2955</td>\n",
       "    </tr>\n",
       "  </tbody>\n",
       "</table>\n",
       "<p>5 rows × 27 columns</p>\n",
       "</div>"
      ],
      "text/plain": [
       "              DateTime   Ni1     S1  Fe3O41   Ni2     S2  Fe3O42   Ni3     S3  \\\n",
       "0  2021-01-01 00:00:00  5.45  22.39     1.5  3.87  17.52     1.7  8.62  13.21   \n",
       "1  2021-01-01 00:01:00  5.45  22.39     1.5  3.87  17.52     1.7  8.62  13.21   \n",
       "2  2021-01-01 00:02:00  5.45  22.39     1.5  3.87  17.52     1.7  8.62  13.21   \n",
       "3  2021-01-01 00:03:00  5.45  22.39     1.5  3.87  17.52     1.7  8.62  13.21   \n",
       "4  2021-01-01 00:04:00  5.45  22.39     1.5  3.87  17.52     1.7  8.62  13.21   \n",
       "\n",
       "   Fe3O43  ...      ro2      ro3      ro4  ro_final  ust1  ust2  ust3  ust4  \\\n",
       "0     5.0  ...  1.68910  2.01670  1.86565    1.8684   0.0   0.0    44  97.0   \n",
       "1     5.0  ...  1.69955  2.02900  1.86145    1.8752   0.0   0.0    44  97.0   \n",
       "2     5.0  ...  1.69980  2.04530  1.85210    1.8635   0.0   0.0    44  97.0   \n",
       "3     5.0  ...  1.69845  2.05230  1.84420    1.8572   0.0   0.0    44  97.0   \n",
       "4     5.0  ...  1.69470  2.06035  1.83950    1.8526   0.0   0.0    44  97.0   \n",
       "\n",
       "   v_final  level_final  \n",
       "0      179      69.2796  \n",
       "1      179      69.1331  \n",
       "2      179      66.7399  \n",
       "3      179      64.2247  \n",
       "4      179      62.2955  \n",
       "\n",
       "[5 rows x 27 columns]"
      ]
     },
     "execution_count": 3,
     "metadata": {},
     "output_type": "execute_result"
    }
   ],
   "source": [
    "data.head(5)"
   ]
  },
  {
   "cell_type": "markdown",
   "id": "b5879c60-7b68-4dee-901f-ef343a95d376",
   "metadata": {},
   "source": [
    "# Предобработка\n",
    "* Удалим дубликаты, создав признак на их наличие (для сохранение информации)\n",
    "* Заменин аномальные значения, заменив предсказанием модели KNN, обученной на нормальных данных "
   ]
  },
  {
   "cell_type": "code",
   "execution_count": 4,
   "id": "c19cd74b-2219-4299-95e2-7bfce0da8082",
   "metadata": {},
   "outputs": [
    {
     "data": {
      "text/plain": [
       "771899"
      ]
     },
     "execution_count": 4,
     "metadata": {},
     "output_type": "execute_result"
    }
   ],
   "source": [
    "data_cleaned = data.drop_duplicates(keep='first')\n",
    "len(data_cleaned)"
   ]
  },
  {
   "cell_type": "code",
   "execution_count": 5,
   "id": "950c5f8e-9915-4970-9fbf-731ff92af7ea",
   "metadata": {},
   "outputs": [
    {
     "data": {
      "text/plain": [
       "772067"
      ]
     },
     "execution_count": 5,
     "metadata": {},
     "output_type": "execute_result"
    }
   ],
   "source": [
    "len(data)"
   ]
  },
  {
   "cell_type": "code",
   "execution_count": 6,
   "id": "a592e6b3-1e18-4d6a-9672-847affa97698",
   "metadata": {},
   "outputs": [
    {
     "name": "stdout",
     "output_type": "stream",
     "text": [
      "<class 'pandas.core.frame.DataFrame'>\n",
      "Index: 771899 entries, 0 to 772066\n",
      "Data columns (total 27 columns):\n",
      " #   Column       Non-Null Count   Dtype  \n",
      "---  ------       --------------   -----  \n",
      " 0   DateTime     771899 non-null  object \n",
      " 1   Ni1          771899 non-null  float64\n",
      " 2   S1           771899 non-null  float64\n",
      " 3   Fe3O41       771899 non-null  float64\n",
      " 4   Ni2          771899 non-null  float64\n",
      " 5   S2           771899 non-null  float64\n",
      " 6   Fe3O42       771899 non-null  float64\n",
      " 7   Ni3          771899 non-null  float64\n",
      " 8   S3           771899 non-null  float64\n",
      " 9   Fe3O43       771899 non-null  float64\n",
      " 10  Ni4          771899 non-null  float64\n",
      " 11  S4           771899 non-null  float64\n",
      " 12  Fe3O44       771899 non-null  float64\n",
      " 13  Ni_final     771899 non-null  float64\n",
      " 14  S_final      771899 non-null  float64\n",
      " 15  Fe3O4_final  771899 non-null  float64\n",
      " 16  ro1          771899 non-null  float64\n",
      " 17  ro2          771899 non-null  float64\n",
      " 18  ro3          771899 non-null  float64\n",
      " 19  ro4          771899 non-null  float64\n",
      " 20  ro_final     771899 non-null  float64\n",
      " 21  ust1         771899 non-null  float64\n",
      " 22  ust2         771899 non-null  float64\n",
      " 23  ust3         771899 non-null  int64  \n",
      " 24  ust4         771899 non-null  float64\n",
      " 25  v_final      771899 non-null  int64  \n",
      " 26  level_final  771899 non-null  float64\n",
      "dtypes: float64(24), int64(2), object(1)\n",
      "memory usage: 164.9+ MB\n"
     ]
    }
   ],
   "source": [
    "data_arx = data.copy()\n",
    "data = data_cleaned\n",
    "data.info()"
   ]
  },
  {
   "cell_type": "code",
   "execution_count": 7,
   "id": "3c19db15-147d-47a2-97cb-d0e86ca8f1de",
   "metadata": {},
   "outputs": [
    {
     "ename": "KeyError",
     "evalue": "['time_diff', 'is_duplicate']",
     "output_type": "error",
     "traceback": [
      "\u001b[1;31m---------------------------------------------------------------------------\u001b[0m",
      "\u001b[1;31mKeyError\u001b[0m                                  Traceback (most recent call last)",
      "\u001b[1;32m~\\AppData\\Local\\Temp\\ipykernel_1320\\1275168637.py\u001b[0m in \u001b[0;36m?\u001b[1;34m()\u001b[0m\n\u001b[0;32m      9\u001b[0m        \u001b[1;34m'ro2'\u001b[0m\u001b[1;33m,\u001b[0m \u001b[1;34m'ro3'\u001b[0m\u001b[1;33m,\u001b[0m \u001b[1;34m'ro4'\u001b[0m\u001b[1;33m,\u001b[0m \u001b[1;34m'ro_final'\u001b[0m\u001b[1;33m,\u001b[0m \u001b[1;34m'ust1'\u001b[0m\u001b[1;33m,\u001b[0m \u001b[1;34m'ust2'\u001b[0m\u001b[1;33m,\u001b[0m \u001b[1;34m'ust3'\u001b[0m\u001b[1;33m,\u001b[0m \u001b[1;34m'ust4'\u001b[0m\u001b[1;33m,\u001b[0m\u001b[1;33m\u001b[0m\u001b[1;33m\u001b[0m\u001b[0m\n\u001b[0;32m     10\u001b[0m        'v_final', 'level_final', 'time_diff', 'is_duplicate'] \n\u001b[0;32m     11\u001b[0m \u001b[0mknn\u001b[0m \u001b[1;33m=\u001b[0m \u001b[0mKNeighborsRegressor\u001b[0m\u001b[1;33m(\u001b[0m\u001b[0mn_neighbors\u001b[0m\u001b[1;33m=\u001b[0m\u001b[1;36m5\u001b[0m\u001b[1;33m)\u001b[0m\u001b[1;33m\u001b[0m\u001b[1;33m\u001b[0m\u001b[0m\n\u001b[0;32m     12\u001b[0m \u001b[1;33m\u001b[0m\u001b[0m\n\u001b[1;32m---> 13\u001b[1;33m \u001b[0mnormal_values\u001b[0m \u001b[1;33m=\u001b[0m \u001b[0mnormal_values\u001b[0m\u001b[1;33m.\u001b[0m\u001b[0mdropna\u001b[0m\u001b[1;33m(\u001b[0m\u001b[0msubset\u001b[0m\u001b[1;33m=\u001b[0m\u001b[0mfeatures\u001b[0m \u001b[1;33m+\u001b[0m \u001b[1;33m[\u001b[0m\u001b[1;34m'ro1'\u001b[0m\u001b[1;33m]\u001b[0m\u001b[1;33m)\u001b[0m\u001b[1;33m\u001b[0m\u001b[1;33m\u001b[0m\u001b[0m\n\u001b[0m\u001b[0;32m     14\u001b[0m \u001b[1;33m\u001b[0m\u001b[0m\n\u001b[0;32m     15\u001b[0m \u001b[0mknn\u001b[0m\u001b[1;33m.\u001b[0m\u001b[0mfit\u001b[0m\u001b[1;33m(\u001b[0m\u001b[0mnormal_values\u001b[0m\u001b[1;33m[\u001b[0m\u001b[0mfeatures\u001b[0m\u001b[1;33m]\u001b[0m\u001b[1;33m,\u001b[0m \u001b[0mnormal_values\u001b[0m\u001b[1;33m[\u001b[0m\u001b[1;34m'ro1'\u001b[0m\u001b[1;33m]\u001b[0m\u001b[1;33m)\u001b[0m\u001b[1;33m\u001b[0m\u001b[1;33m\u001b[0m\u001b[0m\n\u001b[0;32m     16\u001b[0m \u001b[1;33m\u001b[0m\u001b[0m\n",
      "\u001b[1;32mC:\\Anaconda\\Lib\\site-packages\\pandas\\core\\frame.py\u001b[0m in \u001b[0;36m?\u001b[1;34m(self, axis, how, thresh, subset, inplace, ignore_index)\u001b[0m\n\u001b[0;32m   6414\u001b[0m             \u001b[0max\u001b[0m \u001b[1;33m=\u001b[0m \u001b[0mself\u001b[0m\u001b[1;33m.\u001b[0m\u001b[0m_get_axis\u001b[0m\u001b[1;33m(\u001b[0m\u001b[0magg_axis\u001b[0m\u001b[1;33m)\u001b[0m\u001b[1;33m\u001b[0m\u001b[1;33m\u001b[0m\u001b[0m\n\u001b[0;32m   6415\u001b[0m             \u001b[0mindices\u001b[0m \u001b[1;33m=\u001b[0m \u001b[0max\u001b[0m\u001b[1;33m.\u001b[0m\u001b[0mget_indexer_for\u001b[0m\u001b[1;33m(\u001b[0m\u001b[0msubset\u001b[0m\u001b[1;33m)\u001b[0m\u001b[1;33m\u001b[0m\u001b[1;33m\u001b[0m\u001b[0m\n\u001b[0;32m   6416\u001b[0m             \u001b[0mcheck\u001b[0m \u001b[1;33m=\u001b[0m \u001b[0mindices\u001b[0m \u001b[1;33m==\u001b[0m \u001b[1;33m-\u001b[0m\u001b[1;36m1\u001b[0m\u001b[1;33m\u001b[0m\u001b[1;33m\u001b[0m\u001b[0m\n\u001b[0;32m   6417\u001b[0m             \u001b[1;32mif\u001b[0m \u001b[0mcheck\u001b[0m\u001b[1;33m.\u001b[0m\u001b[0many\u001b[0m\u001b[1;33m(\u001b[0m\u001b[1;33m)\u001b[0m\u001b[1;33m:\u001b[0m\u001b[1;33m\u001b[0m\u001b[1;33m\u001b[0m\u001b[0m\n\u001b[1;32m-> 6418\u001b[1;33m                 \u001b[1;32mraise\u001b[0m \u001b[0mKeyError\u001b[0m\u001b[1;33m(\u001b[0m\u001b[0mnp\u001b[0m\u001b[1;33m.\u001b[0m\u001b[0marray\u001b[0m\u001b[1;33m(\u001b[0m\u001b[0msubset\u001b[0m\u001b[1;33m)\u001b[0m\u001b[1;33m[\u001b[0m\u001b[0mcheck\u001b[0m\u001b[1;33m]\u001b[0m\u001b[1;33m.\u001b[0m\u001b[0mtolist\u001b[0m\u001b[1;33m(\u001b[0m\u001b[1;33m)\u001b[0m\u001b[1;33m)\u001b[0m\u001b[1;33m\u001b[0m\u001b[1;33m\u001b[0m\u001b[0m\n\u001b[0m\u001b[0;32m   6419\u001b[0m             \u001b[0magg_obj\u001b[0m \u001b[1;33m=\u001b[0m \u001b[0mself\u001b[0m\u001b[1;33m.\u001b[0m\u001b[0mtake\u001b[0m\u001b[1;33m(\u001b[0m\u001b[0mindices\u001b[0m\u001b[1;33m,\u001b[0m \u001b[0maxis\u001b[0m\u001b[1;33m=\u001b[0m\u001b[0magg_axis\u001b[0m\u001b[1;33m)\u001b[0m\u001b[1;33m\u001b[0m\u001b[1;33m\u001b[0m\u001b[0m\n\u001b[0;32m   6420\u001b[0m \u001b[1;33m\u001b[0m\u001b[0m\n\u001b[0;32m   6421\u001b[0m         \u001b[1;32mif\u001b[0m \u001b[0mthresh\u001b[0m \u001b[1;32mis\u001b[0m \u001b[1;32mnot\u001b[0m \u001b[0mlib\u001b[0m\u001b[1;33m.\u001b[0m\u001b[0mno_default\u001b[0m\u001b[1;33m:\u001b[0m\u001b[1;33m\u001b[0m\u001b[1;33m\u001b[0m\u001b[0m\n",
      "\u001b[1;31mKeyError\u001b[0m: ['time_diff', 'is_duplicate']"
     ]
    }
   ],
   "source": [
    "from sklearn.neighbors import KNeighborsRegressor\n",
    "\n",
    "is_anomalous = (data['ro1'] < 1.0) | (data['ro1'] > 2.5)\n",
    "anomalous_values = data[is_anomalous]\n",
    "normal_values = data[~is_anomalous]\n",
    "\n",
    "features = ['Ni1', 'S1', 'Fe3O41', 'Ni2', 'S2', 'Fe3O42', 'Ni3', 'S3', 'Fe3O43',\n",
    "       'Ni4', 'S4', 'Fe3O44', 'Ni_final', 'S_final', 'Fe3O4_final',\n",
    "       'ro2', 'ro3', 'ro4', 'ro_final', 'ust1', 'ust2', 'ust3', 'ust4',\n",
    "       'v_final', 'level_final', 'time_diff', 'is_duplicate'] \n",
    "knn = KNeighborsRegressor(n_neighbors=5)\n",
    "\n",
    "normal_values = normal_values.dropna(subset=features + ['ro1'])\n",
    "\n",
    "knn.fit(normal_values[features], normal_values['ro1'])\n",
    "\n",
    "anomalous_values_pred = anomalous_values.copy()\n",
    "anomalous_values_pred['ro1'] = knn.predict(anomalous_values[features])\n",
    "\n",
    "data.loc[is_anomalous, 'ro1'] = anomalous_values_pred['ro1']"
   ]
  },
  {
   "cell_type": "code",
   "execution_count": null,
   "id": "d2fc0d82-3835-4492-a19f-18c5a9d2c162",
   "metadata": {},
   "outputs": [],
   "source": [
    "df = pd.read_csv('data_proc.csv')\n",
    "data = df"
   ]
  },
  {
   "cell_type": "code",
   "execution_count": null,
   "id": "89ec550f-d808-4722-889c-2f78ed39514e",
   "metadata": {},
   "outputs": [],
   "source": [
    "from sklearn.neighbors import KNeighborsRegressor\n",
    "\n",
    "is_anomalous = (data['ro2'] < 1.0) | (data['ro2'] > 2.5)\n",
    "anomalous_values = data[is_anomalous]\n",
    "normal_values = data[~is_anomalous]\n",
    "\n",
    "features = ['Ni1', 'S1', 'Fe3O41', 'Ni2', 'S2', 'Fe3O42', 'Ni3', 'S3', 'Fe3O43',\n",
    "       'Ni4', 'S4', 'Fe3O44', 'Ni_final', 'S_final', 'Fe3O4_final',\n",
    "       'ro1', 'ro3', 'ro4', 'ro_final', 'ust1', 'ust2', 'ust3', 'ust4',\n",
    "       'v_final', 'level_final', 'time_diff', 'is_duplicate'] \n",
    "knn = KNeighborsRegressor(n_neighbors=5)\n",
    "\n",
    "normal_values = normal_values.dropna(subset=features + ['ro2'])\n",
    "\n",
    "knn.fit(normal_values[features], normal_values['ro2'])\n",
    "\n",
    "anomalous_values_pred = anomalous_values.copy()\n",
    "anomalous_values_pred['ro2'] = knn.predict(anomalous_values[features])\n",
    "\n",
    "data.loc[is_anomalous, 'ro2'] = anomalous_values_pred['ro2']"
   ]
  },
  {
   "cell_type": "code",
   "execution_count": null,
   "id": "fa2c0703-ddbc-43dc-9e85-3875c8c05695",
   "metadata": {},
   "outputs": [],
   "source": [
    "is_anomalous = (data['ro3'] < 1.0) | (data['ro3'] > 2.5)\n",
    "anomalous_values = data[is_anomalous]\n",
    "normal_values = data[~is_anomalous]\n",
    "\n",
    "features = ['Ni1', 'S1', 'Fe3O41', 'Ni2', 'S2', 'Fe3O42', 'Ni3', 'S3', 'Fe3O43',\n",
    "       'Ni4', 'S4', 'Fe3O44', 'Ni_final', 'S_final', 'Fe3O4_final',\n",
    "       'ro1', 'ro2', 'ro4', 'ro_final', 'ust1', 'ust2', 'ust3', 'ust4',\n",
    "       'v_final', 'level_final', 'time_diff', 'is_duplicate'] \n",
    "knn = KNeighborsRegressor(n_neighbors=5)\n",
    "\n",
    "normal_values = normal_values.dropna(subset=features + ['ro3'])\n",
    "\n",
    "knn.fit(normal_values[features], normal_values['ro3'])\n",
    "\n",
    "anomalous_values_pred = anomalous_values.copy()\n",
    "anomalous_values_pred['ro3'] = knn.predict(anomalous_values[features])\n",
    "\n",
    "data.loc[is_anomalous, 'ro3'] = anomalous_values_pred['ro3']"
   ]
  },
  {
   "cell_type": "code",
   "execution_count": null,
   "id": "a7162d61-ff41-4a9a-afea-fec482c1bd84",
   "metadata": {},
   "outputs": [],
   "source": [
    "is_anomalous = (data['ro4'] < 1.0) | (data['ro4'] > 2.5)\n",
    "anomalous_values = data[is_anomalous]\n",
    "normal_values = data[~is_anomalous]\n",
    "\n",
    "features = ['Ni1', 'S1', 'Fe3O41', 'Ni2', 'S2', 'Fe3O42', 'Ni3', 'S3', 'Fe3O43',\n",
    "       'Ni4', 'S4', 'Fe3O44', 'Ni_final', 'S_final', 'Fe3O4_final',\n",
    "       'ro1', 'ro3', 'ro2', 'ro_final', 'ust1', 'ust2', 'ust3', 'ust4',\n",
    "       'v_final', 'level_final', 'time_diff', 'is_duplicate'] \n",
    "knn = KNeighborsRegressor(n_neighbors=5)\n",
    "\n",
    "normal_values = normal_values.dropna(subset=features + ['ro2'])\n",
    "\n",
    "knn.fit(normal_values[features], normal_values['ro4'])\n",
    "\n",
    "anomalous_values_pred = anomalous_values.copy()\n",
    "anomalous_values_pred['ro4'] = knn.predict(anomalous_values[features])\n",
    "\n",
    "data.loc[is_anomalous, 'ro4'] = anomalous_values_pred['ro4']"
   ]
  },
  {
   "cell_type": "code",
   "execution_count": null,
   "id": "bd53696e-a303-40e9-a509-d6e7634aafda",
   "metadata": {},
   "outputs": [],
   "source": [
    "is_anomalous = (data['ro_final'] < 1.0) | (data['ro_final'] > 2.5)\n",
    "anomalous_values = data[is_anomalous]\n",
    "normal_values = data[~is_anomalous]\n",
    "\n",
    "features = ['Ni1', 'S1', 'Fe3O41', 'Ni2', 'S2', 'Fe3O42', 'Ni3', 'S3', 'Fe3O43',\n",
    "       'Ni4', 'S4', 'Fe3O44', 'Ni_final', 'S_final', 'Fe3O4_final',\n",
    "       'ro1', 'ro3', 'ro4', 'ro1', 'ust1', 'ust2', 'ust3', 'ust4',\n",
    "       'v_final', 'level_final', 'time_diff', 'is_duplicate'] \n",
    "knn = KNeighborsRegressor(n_neighbors=5)\n",
    "\n",
    "normal_values = normal_values.dropna(subset=features + ['ro2'])\n",
    "\n",
    "knn.fit(normal_values[features], normal_values['ro_final'])\n",
    "\n",
    "anomalous_values_pred = anomalous_values.copy()\n",
    "anomalous_values_pred['ro_final'] = knn.predict(anomalous_values[features])\n",
    "\n",
    "data.loc[is_anomalous, 'ro_final'] = anomalous_values_pred['ro_final']"
   ]
  },
  {
   "cell_type": "code",
   "execution_count": null,
   "id": "ad512655-8d91-40a2-a93e-b216ea0db390",
   "metadata": {},
   "outputs": [],
   "source": [
    "data.to_csv('data_processed.csv')"
   ]
  },
  {
   "cell_type": "markdown",
   "id": "8a6c0a6a-f6f7-44c0-8f61-b3eff2d7f676",
   "metadata": {},
   "source": [
    "# Постановка задачи \n",
    "* Сделать RL Q-Learning модель, с наградой за поддержку целевых значений в заданном диапозлне и возможностью менять значение уставок\n",
    "Q-Learning был выбран, как самая простая модел, из-за ограничения по ресурсам \n",
    "* Сравнить результат с обычной логистической регрессией  "
   ]
  },
  {
   "cell_type": "code",
   "execution_count": null,
   "id": "ef9a3370-9e13-45bc-9ee6-d986f4fba414",
   "metadata": {},
   "outputs": [],
   "source": []
  }
 ],
 "metadata": {
  "kernelspec": {
   "display_name": "Python 3 (ipykernel)",
   "language": "python",
   "name": "python3"
  },
  "language_info": {
   "codemirror_mode": {
    "name": "ipython",
    "version": 3
   },
   "file_extension": ".py",
   "mimetype": "text/x-python",
   "name": "python",
   "nbconvert_exporter": "python",
   "pygments_lexer": "ipython3",
   "version": "3.11.7"
  }
 },
 "nbformat": 4,
 "nbformat_minor": 5
}
